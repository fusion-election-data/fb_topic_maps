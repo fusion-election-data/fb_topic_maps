{
 "cells": [
  {
   "cell_type": "raw",
   "metadata": {
    "collapsed": true
   },
   "source": [
    "import csv\n",
    "import json"
   ]
  },
  {
   "cell_type": "code",
   "execution_count": 2,
   "metadata": {
    "collapsed": true
   },
   "outputs": [],
   "source": [
    "topics = [u'The Economy',\n",
    "       u'Religion', u'Racial Issues', u'Homeland Security & Terrorism',\n",
    "       u'Government Ethics', u'Taxes', u'Iraq, Syria & ISIS', u'LGBT Issues',\n",
    "       u'Crime & Criminal Justice', u'Education', u'Immigration',\n",
    "       u'Campaign Finance', u'Healthcare',\n",
    "       u'The Environment, EPA & Energy Policy', u'Guns', u'Judicial Issues',\n",
    "       u'Government Assistance', u'Russia & Ukraine', u'Abortion',\n",
    "       u'Israel & Palestine', u'North Korea', u'Voting Law', u'China',\n",
    "       u'Gender Equality', u'Regulations & The Size of Government', u'Iran',\n",
    "       u'Government Spending', u'Intelligence Gathering, The NSA & Privacy',\n",
    "       u'Trade', u'Drug Policy', u'Cuba', u'Public Health']"
   ]
  },
  {
   "cell_type": "code",
   "execution_count": 5,
   "metadata": {
    "collapsed": true
   },
   "outputs": [],
   "source": [
    "def topicShares(row):\n",
    "    return [float(row[t] or 0) for t in topics]"
   ]
  },
  {
   "cell_type": "code",
   "execution_count": 8,
   "metadata": {
    "collapsed": true
   },
   "outputs": [],
   "source": [
    "geographies = {}\n",
    "\n",
    "with open(\"FB_Policy_Issues_Conversation_by_National_Feb_May.csv\") as fh:\n",
    "    r = csv.DictReader(fh)\n",
    "    geographies['0'] = {'name': 'United States', 'ts': topicShares(r.next())}\n",
    "\n",
    "with open(\"FB_Policy_Issues_Conversation_by_State_Feb_May.csv\") as fh:\n",
    "    r = csv.DictReader(fh)\n",
    "    geographies.update({int(x['state_fips']):{'name': x['state_name'], 'ts': topicShares(x)} for x in r})\n",
    "    \n",
    "with open(\"FB_Policy_Issues_Conversation_by_County_Feb_May.csv\") as fh:\n",
    "    r = csv.DictReader(fh)\n",
    "    geographies.update({int(x['county_fips']):{'name': \"%s, %s\" % (x['county_full_name'],x['state_name']), 'ts': topicShares(x)} for x in r})"
   ]
  },
  {
   "cell_type": "code",
   "execution_count": 11,
   "metadata": {
    "collapsed": false
   },
   "outputs": [],
   "source": [
    "with open('d3/src/data/conversation.json','w') as fh:\n",
    "    json.dump({'topics':topics,'geographies':geographies},fh)"
   ]
  },
  {
   "cell_type": "code",
   "execution_count": null,
   "metadata": {
    "collapsed": true
   },
   "outputs": [],
   "source": []
  }
 ],
 "metadata": {
  "kernelspec": {
   "display_name": "Python 2",
   "language": "python",
   "name": "python2"
  },
  "language_info": {
   "codemirror_mode": {
    "name": "ipython",
    "version": 2
   },
   "file_extension": ".py",
   "mimetype": "text/x-python",
   "name": "python",
   "nbconvert_exporter": "python",
   "pygments_lexer": "ipython2",
   "version": "2.7.11"
  }
 },
 "nbformat": 4,
 "nbformat_minor": 0
}
